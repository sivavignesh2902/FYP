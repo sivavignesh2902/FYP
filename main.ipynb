{
 "cells": [
  {
   "cell_type": "markdown",
   "metadata": {},
   "source": [
    "KEYWORD EXTRACTION"
   ]
  },
  {
   "cell_type": "code",
   "execution_count": 1,
   "metadata": {},
   "outputs": [
    {
     "name": "stdout",
     "output_type": "stream",
     "text": [
      "['playing', 'frog', 'dog']\n"
     ]
    }
   ],
   "source": [
    "import nltk\n",
    "# nltk.download('stopwords')\n",
    "# nltk.download('punkt') \n",
    "\n",
    "from rake_nltk import Rake\n",
    "rake_nltk_var = Rake()\n",
    "text = \"\"\"frog and dog are playing\"\"\"\n",
    "rake_nltk_var.extract_keywords_from_text(text)\n",
    "keyword_extracted = rake_nltk_var.get_ranked_phrases()\n",
    "print(keyword_extracted)"
   ]
  },
  {
   "cell_type": "markdown",
   "metadata": {},
   "source": [
    "PARTS OF SPEECH TAGGING"
   ]
  },
  {
   "cell_type": "code",
   "execution_count": 2,
   "metadata": {},
   "outputs": [
    {
     "name": "stdout",
     "output_type": "stream",
     "text": [
      "[('frog', 'NN'), ('and', 'CC'), ('dog', 'NN'), ('are', 'VBP'), ('playing', 'VBG')]\n"
     ]
    }
   ],
   "source": [
    "import nltk\n",
    "from nltk.corpus import stopwords\n",
    "from nltk.tokenize import word_tokenize, sent_tokenize\n",
    "stop_words = set(stopwords.words('english'))\n",
    "\n",
    "tokenized = word_tokenize(text)\n",
    "\n",
    "tagged = nltk.pos_tag(tokenized)\n",
    "print(tagged)"
   ]
  },
  {
   "cell_type": "markdown",
   "metadata": {},
   "source": [
    "SENTIMENT ANALYSIS"
   ]
  },
  {
   "cell_type": "code",
   "execution_count": 3,
   "metadata": {},
   "outputs": [
    {
     "name": "stderr",
     "output_type": "stream",
     "text": [
      "[nltk_data] Downloading package vader_lexicon to\n",
      "[nltk_data]     C:\\Users\\lenovo\\AppData\\Roaming\\nltk_data...\n",
      "[nltk_data]   Package vader_lexicon is already up-to-date!\n"
     ]
    }
   ],
   "source": [
    "import nltk\n",
    "from nltk.sentiment.vader import SentimentIntensityAnalyzer\n",
    "\n",
    "nltk.download('vader_lexicon')\n",
    "def retSetiment(text1):\n",
    "    analyzer = SentimentIntensityAnalyzer()\n",
    "\n",
    "    user_input = text1\n",
    "    \n",
    "    sentiment_scores = analyzer.polarity_scores(user_input)\n",
    "\n",
    "    if sentiment_scores['compound'] >= 0.05:\n",
    "        sentiment = \"positive\"\n",
    "    elif sentiment_scores['compound'] <= -0.05:\n",
    "        sentiment = \"negative\"\n",
    "    else:\n",
    "        sentiment = \"neutral\"\n",
    "\n",
    "    print(f\"Sentiment: {sentiment}\")\n",
    "    return sentiment"
   ]
  },
  {
   "cell_type": "markdown",
   "metadata": {},
   "source": [
    "ADDING SUBJECT DESCRIPTORS ( ENHANCERS )"
   ]
  },
  {
   "cell_type": "code",
   "execution_count": 4,
   "metadata": {},
   "outputs": [
    {
     "name": "stderr",
     "output_type": "stream",
     "text": [
      "e:\\FYP\\prompt_generator\\.venv\\Lib\\site-packages\\tqdm\\auto.py:21: TqdmWarning: IProgress not found. Please update jupyter and ipywidgets. See https://ipywidgets.readthedocs.io/en/stable/user_install.html\n",
      "  from .autonotebook import tqdm as notebook_tqdm\n"
     ]
    },
    {
     "name": "stdout",
     "output_type": "stream",
     "text": [
      "Sentiment: positive\n",
      "Sentiment: positive\n",
      "colorful frog and cute dog are playing\n",
      "\n",
      "vibrant frog and cute dog dog are playing\n",
      "\n",
      "striking frog and cute dog dog dog are playing\n",
      "\n",
      "tropical frog and cute dog dog dog dog are playing\n",
      "\n",
      "colorful frog and active dog are playing\n",
      "\n",
      "vibrant frog and active dog dog are playing\n",
      "\n",
      "striking frog and active dog dog dog are playing\n",
      "\n",
      "tropical frog and active dog dog dog dog are playing\n",
      "\n",
      "colorful frog and happy dog are playing\n",
      "\n",
      "vibrant frog and happy dog dog are playing\n",
      "\n",
      "striking frog and happy dog dog dog are playing\n",
      "\n",
      "tropical frog and happy dog dog dog dog are playing\n",
      "\n",
      "colorful frog and obedient dog are playing\n",
      "\n",
      "vibrant frog and obedient dog dog are playing\n",
      "\n",
      "striking frog and obedient dog dog dog are playing\n",
      "\n",
      "tropical frog and obedient dog dog dog dog are playing\n",
      "\n"
     ]
    }
   ],
   "source": [
    "import json\n",
    "import re\n",
    "from sentence_transformers import SentenceTransformer, util\n",
    "model = SentenceTransformer('all-MiniLM-L6-v2')\n",
    "\n",
    "def appendAdj(extNoun):\n",
    "    extNoun=extNoun.lower()\n",
    "    animals_adj = open(\"./data.json\")\n",
    "    ani_json = json.load(animals_adj)\n",
    "    name_adj_dict = {}\n",
    "    ani_json = ani_json['animals']\n",
    "    sentSentiment = retSetiment(text) #negative\n",
    "    currAdj = []\n",
    "    for i in ani_json:\n",
    "        if(i['name'] == extNoun):\n",
    "            for j in  range(len(i['adjectives'])):\n",
    "                if(i['adjectives'][j][\"type\"] == sentSentiment):\n",
    "                    currAdj.append(i['adjectives'][j][\"value\"])\n",
    "                    \n",
    "    name_adj_dict[extNoun] = currAdj\n",
    "   \n",
    "    return name_adj_dict[extNoun]\n",
    "    \n",
    "    \n",
    "    \n",
    "allAdj = {}\n",
    "allText = []\n",
    "\n",
    "k=0\n",
    "\n",
    "for i,j in (tagged):\n",
    "    if(j=='NN'):\n",
    "        allAdj[i] = appendAdj(i)\n",
    "# for i in allAdj:\n",
    "#     print(i,\" \",allAdj[i])\n",
    "allText.append([])\n",
    "allText[0]=[text]\n",
    "length=1\n",
    "for k in allAdj:\n",
    "    allText.append([])\n",
    "    if(allAdj[k] == []):\n",
    "        continue\n",
    "    for v1 in allAdj[k]:\n",
    "        for m in allText[length-1]:\n",
    "            v1 += \" \" + k\n",
    "            allText[length].append(re.sub(k,v1,m))\n",
    "    length+=1\n",
    "for i in allText[length-1]:\n",
    "    print(i+\"\\n\")"
   ]
  },
  {
   "cell_type": "markdown",
   "metadata": {},
   "source": [
    "HABITAT MAPPING AND EMBEDDING"
   ]
  },
  {
   "cell_type": "code",
   "execution_count": 6,
   "metadata": {},
   "outputs": [
    {
     "name": "stdout",
     "output_type": "stream",
     "text": [
      "True\n",
      "colorful frog and cute dog are playing, in the rainforests\n",
      "colorful frog and cute dog are playing, in the jungles\n",
      "colorful frog and cute dog are playing, in the tropical forests\n",
      "vibrant frog and cute dog dog are playing, in the rainforests\n",
      "vibrant frog and cute dog dog are playing, in the jungles\n",
      "vibrant frog and cute dog dog are playing, in the tropical forests\n",
      "striking frog and cute dog dog dog are playing, in the rainforests\n",
      "striking frog and cute dog dog dog are playing, in the jungles\n",
      "striking frog and cute dog dog dog are playing, in the tropical forests\n",
      "tropical frog and cute dog dog dog dog are playing, in the rainforests\n",
      "tropical frog and cute dog dog dog dog are playing, in the jungles\n",
      "tropical frog and cute dog dog dog dog are playing, in the tropical forests\n",
      "colorful frog and active dog are playing, in the rainforests\n",
      "colorful frog and active dog are playing, in the jungles\n",
      "colorful frog and active dog are playing, in the tropical forests\n",
      "vibrant frog and active dog dog are playing, in the rainforests\n",
      "vibrant frog and active dog dog are playing, in the jungles\n",
      "vibrant frog and active dog dog are playing, in the tropical forests\n",
      "striking frog and active dog dog dog are playing, in the rainforests\n",
      "striking frog and active dog dog dog are playing, in the jungles\n",
      "striking frog and active dog dog dog are playing, in the tropical forests\n",
      "tropical frog and active dog dog dog dog are playing, in the rainforests\n",
      "tropical frog and active dog dog dog dog are playing, in the jungles\n",
      "tropical frog and active dog dog dog dog are playing, in the tropical forests\n",
      "colorful frog and happy dog are playing, in the rainforests\n",
      "colorful frog and happy dog are playing, in the jungles\n",
      "colorful frog and happy dog are playing, in the tropical forests\n",
      "vibrant frog and happy dog dog are playing, in the rainforests\n",
      "vibrant frog and happy dog dog are playing, in the jungles\n",
      "vibrant frog and happy dog dog are playing, in the tropical forests\n",
      "striking frog and happy dog dog dog are playing, in the rainforests\n",
      "striking frog and happy dog dog dog are playing, in the jungles\n",
      "striking frog and happy dog dog dog are playing, in the tropical forests\n",
      "tropical frog and happy dog dog dog dog are playing, in the rainforests\n",
      "tropical frog and happy dog dog dog dog are playing, in the jungles\n",
      "tropical frog and happy dog dog dog dog are playing, in the tropical forests\n",
      "colorful frog and obedient dog are playing, in the rainforests\n",
      "colorful frog and obedient dog are playing, in the jungles\n",
      "colorful frog and obedient dog are playing, in the tropical forests\n",
      "vibrant frog and obedient dog dog are playing, in the rainforests\n",
      "vibrant frog and obedient dog dog are playing, in the jungles\n",
      "vibrant frog and obedient dog dog are playing, in the tropical forests\n",
      "striking frog and obedient dog dog dog are playing, in the rainforests\n",
      "striking frog and obedient dog dog dog are playing, in the jungles\n",
      "striking frog and obedient dog dog dog are playing, in the tropical forests\n",
      "tropical frog and obedient dog dog dog dog are playing, in the rainforests\n",
      "tropical frog and obedient dog dog dog dog are playing, in the jungles\n",
      "tropical frog and obedient dog dog dog dog are playing, in the tropical forests\n"
     ]
    }
   ],
   "source": [
    "import json\n",
    "import joblib\n",
    "\n",
    "fdata = open('./data.json')\n",
    "fdata = json.load(fdata)\n",
    "fdata = fdata['animals']\n",
    "\n",
    "def checkAndReturnHabitat(extNoun):\n",
    "    for i in fdata:\n",
    "        if(i['name'] == extNoun):\n",
    "            # print(i['habitats'])\n",
    "            return i['habitats']\n",
    "    return []\n",
    "\n",
    "def isHabitat(extNoun):\n",
    "    model = joblib.load('habitatModel.pkl')\n",
    "    vectorizer = joblib.load('vectorModel.pkl')\n",
    "\n",
    "    user_input = extNoun\n",
    "\n",
    "    user_input_preprocessed = user_input\n",
    "\n",
    "    user_input_vec = vectorizer.transform([user_input_preprocessed])\n",
    "\n",
    "    prediction = model.predict(user_input_vec)\n",
    "    if prediction[0] == 1:\n",
    "        return True\n",
    "    return False\n",
    "\n",
    "\n",
    "#habitat inclusion\n",
    "currAllText = allText[length-1]\n",
    "newAllText = []\n",
    "setHabitats = []\n",
    "\n",
    "flag = True\n",
    "for i,j in (tagged):\n",
    "    if (j == 'NN'):\n",
    "        if(isHabitat(i) == False):\n",
    "            flag = False\n",
    "        else:\n",
    "            flag = True\n",
    "            break\n",
    "print(flag)\n",
    "#if there is no habitat found in the sentence\n",
    "if flag == True:\n",
    "    for i,j in (tagged):\n",
    "        if ((j == 'NN') and (isHabitat(i) == False)): #dog\n",
    "            setHabitats = checkAndReturnHabitat(i)\n",
    "            if(setHabitats == []):\n",
    "                continue\n",
    "            for l in currAllText:\n",
    "                for k in setHabitats:\n",
    "                    temp = l\n",
    "                    temp += \", in the \" + k\n",
    "                    newAllText.append(temp)\n",
    "    for i in newAllText:\n",
    "        print(i,end = \"\\n\")"
   ]
  },
  {
   "cell_type": "markdown",
   "metadata": {},
   "source": [
    "FINDING COSINE SIMILARITY"
   ]
  },
  {
   "cell_type": "code",
   "execution_count": 7,
   "metadata": {},
   "outputs": [
    {
     "name": "stdout",
     "output_type": "stream",
     "text": [
      "colorful frog and active dog are playing, in the jungles\n",
      "striking frog and active dog dog dog are playing, in the jungles\n",
      "striking frog and cute dog dog dog are playing, in the jungles\n",
      "colorful frog and active dog are playing, in the rainforests\n",
      "colorful frog and cute dog are playing, in the jungles\n",
      "striking frog and happy dog dog dog are playing, in the jungles\n",
      "colorful frog and happy dog are playing, in the jungles\n",
      "vibrant frog and active dog dog are playing, in the jungles\n",
      "colorful frog and happy dog are playing, in the rainforests\n",
      "tropical frog and active dog dog dog dog are playing, in the jungles\n"
     ]
    }
   ],
   "source": [
    "def cosineTop10(allText1):\n",
    "    maxDict1 = {}\n",
    "    top10Sentences = []\n",
    "    for i in allText1:\n",
    "        col1=[i]\n",
    "        col2=[text]\n",
    "        vectors1 = model.encode(col1, convert_to_tensor=True)\n",
    "        vectors2 = model.encode(col2, convert_to_tensor=True)\n",
    "        cosine_scores = util.cos_sim(vectors1, vectors2)\n",
    "        for j,(sent1,sent2) in enumerate(zip(col1,col2)):\n",
    "            if cosine_scores[j][j]>=0.5:\n",
    "                maxDict1[i] = cosine_scores[j][j]\n",
    "    l1 = 10\n",
    "    ind1 = 0\n",
    "    for k, v in sorted(maxDict1.items(), key=lambda item: item[1],reverse=True):\n",
    "        if(ind1 >= l1 or ind1 >= len(maxDict1)):\n",
    "            break\n",
    "        ind1+=1\n",
    "        top10Sentences.append(k)\n",
    "    return top10Sentences \n",
    "topSentences = cosineTop10(newAllText)\n",
    "for i in topSentences:\n",
    "    print(i,end = \"\\n\")\n",
    "    "
   ]
  },
  {
   "cell_type": "markdown",
   "metadata": {},
   "source": [
    "KNOWLEDGE GRAPH GENERATION - BASIC GoT"
   ]
  },
  {
   "cell_type": "code",
   "execution_count": 8,
   "metadata": {},
   "outputs": [
    {
     "name": "stdout",
     "output_type": "stream",
     "text": [
      "{'value': 'cute', 'type': 'positive'} - (adjective)\n",
      "{'value': 'angry', 'type': 'negative'} - (adjective)\n",
      "{'value': 'ferocious', 'type': 'negative'} - (adjective)\n",
      "{'value': 'active', 'type': 'positive'} - (adjective)\n",
      "{'value': 'happy', 'type': 'positive'} - (adjective)\n",
      "{'value': 'obedient', 'type': 'positive'} - (adjective)\n",
      "rainforests - (habitat)\n",
      "jungles - (habitat)\n",
      "tropical forests - (habitat)\n"
     ]
    }
   ],
   "source": [
    "class Node:\n",
    "    def __init__(self, name, node_type):\n",
    "        self.name = name\n",
    "        self.node_type = node_type\n",
    "        self.children = []\n",
    "    def add_child(self, child):\n",
    "        self.children.append(child)\n",
    "    def __str__(self) -> str:\n",
    "        return f\"{self.name} - ({self.node_type})\"\n",
    "   \n",
    "class Graph:\n",
    "    def __init__(self):\n",
    "        self.nodes = []\n",
    "\n",
    "    def add_node(self, node):\n",
    "        self.nodes.append(node)\n",
    "\n",
    "    def add_edge(self, parent, child):\n",
    "        parent.add_child(child)\n",
    "\n",
    "    def get_children(self, node):\n",
    "        return node.children\n",
    "    def findNode(self,animalName):\n",
    "        for i in self.nodes:\n",
    "            if(i.node_type == 'animal' and i.name == animalName):\n",
    "                temp =  self.get_children(i)\n",
    "                return temp\n",
    "        return []\n",
    "# Create a graph\n",
    "graph = Graph()\n",
    "data = open('./data.json')\n",
    "\n",
    "data_json = json.load(data)\n",
    "\n",
    "data_json = data_json['animals']\n",
    "\n",
    "root = Node(\"animal\", \"root\")\n",
    "graph.add_node(root)\n",
    "for i in range(len(data_json)):\n",
    "    n1 = Node(data_json[i]['name'],\"animal\")\n",
    "    graph.add_node(n1)\n",
    "    for adj in data_json[i][\"adjectives\"]:\n",
    "        adjective_node = Node(adj, \"adjective\")\n",
    "        graph.add_node(adjective_node)\n",
    "        graph.add_edge(n1, adjective_node)\n",
    "\n",
    "    for habitat in data_json[i][\"habitats\"]:\n",
    "        habitat_node = Node(habitat, \"habitat\")\n",
    "        graph.add_node(habitat_node)\n",
    "        graph.add_edge(n1, habitat_node)\n",
    "\n",
    "testAnimal = \"dog\"\n",
    "cdren = graph.findNode(testAnimal)\n",
    "if(cdren != []):\n",
    "    for i in cdren:\n",
    "        print(i)\n",
    "else:\n",
    "    print(\"Not Found\")"
   ]
  },
  {
   "cell_type": "markdown",
   "metadata": {},
   "source": [
    "Follow Up:\n",
    "    - image type - photo, sketch, cartoon...\n",
    "    - camera features - focus, lens...\n",
    "    - time of the scenario - morning, afternoon, night, dinner...\n",
    "    - adding +,- weights"
   ]
  }
 ],
 "metadata": {
  "kernelspec": {
   "display_name": ".venv",
   "language": "python",
   "name": "python3"
  },
  "language_info": {
   "codemirror_mode": {
    "name": "ipython",
    "version": 3
   },
   "file_extension": ".py",
   "mimetype": "text/x-python",
   "name": "python",
   "nbconvert_exporter": "python",
   "pygments_lexer": "ipython3",
   "version": "3.11.0"
  },
  "orig_nbformat": 4
 },
 "nbformat": 4,
 "nbformat_minor": 2
}
