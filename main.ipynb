{
 "cells": [
  {
   "cell_type": "markdown",
   "metadata": {},
   "source": [
    "KEYWORD EXTRACTION"
   ]
  },
  {
   "cell_type": "code",
   "execution_count": 2,
   "metadata": {},
   "outputs": [
    {
     "name": "stderr",
     "output_type": "stream",
     "text": [
      "[nltk_data] Downloading package stopwords to\n",
      "[nltk_data]     C:\\Users\\suren\\AppData\\Roaming\\nltk_data...\n",
      "[nltk_data]   Package stopwords is already up-to-date!\n",
      "[nltk_data] Downloading package punkt to\n",
      "[nltk_data]     C:\\Users\\suren\\AppData\\Roaming\\nltk_data...\n",
      "[nltk_data]   Package punkt is already up-to-date!\n"
     ]
    },
    {
     "data": {
      "text/plain": [
       "True"
      ]
     },
     "execution_count": 2,
     "metadata": {},
     "output_type": "execute_result"
    }
   ],
   "source": [
    "import nltk\n",
    "nltk.download('stopwords')\n",
    "nltk.download('punkt') "
   ]
  },
  {
   "cell_type": "code",
   "execution_count": 11,
   "metadata": {},
   "outputs": [
    {
     "name": "stdout",
     "output_type": "stream",
     "text": [
      "['playing', 'frog', 'dog']\n"
     ]
    }
   ],
   "source": [
    "import nltk\n",
    "# nltk.download('stopwords')\n",
    "# nltk.download('punkt') \n",
    "\n",
    "from rake_nltk import Rake\n",
    "rake_nltk_var = Rake()\n",
    "text = \"\"\"frog and dog are playing\"\"\"\n",
    "rake_nltk_var.extract_keywords_from_text(text)\n",
    "keyword_extracted = rake_nltk_var.get_ranked_phrases()\n",
    "print(keyword_extracted)"
   ]
  },
  {
   "cell_type": "markdown",
   "metadata": {},
   "source": [
    "PARTS OF SPEECH TAGGING"
   ]
  },
  {
   "cell_type": "code",
   "execution_count": 12,
   "metadata": {},
   "outputs": [
    {
     "name": "stdout",
     "output_type": "stream",
     "text": [
      "[('frog', 'NN'), ('and', 'CC'), ('dog', 'NN'), ('are', 'VBP'), ('playing', 'VBG')]\n"
     ]
    }
   ],
   "source": [
    "import nltk\n",
    "from nltk.corpus import stopwords\n",
    "from nltk.tokenize import word_tokenize, sent_tokenize\n",
    "stop_words = set(stopwords.words('english'))\n",
    "\n",
    "tokenized = word_tokenize(text)\n",
    "\n",
    "tagged = nltk.pos_tag(tokenized)\n",
    "print(tagged)"
   ]
  },
  {
   "cell_type": "markdown",
   "metadata": {},
   "source": [
    "SENTIMENT ANALYSIS"
   ]
  },
  {
   "cell_type": "code",
   "execution_count": 13,
   "metadata": {},
   "outputs": [],
   "source": [
    "import nltk\n",
    "from nltk.sentiment.vader import SentimentIntensityAnalyzer\n",
    "def retSetiment(text1):\n",
    "    analyzer = SentimentIntensityAnalyzer()\n",
    "    user_input = text1\n",
    "    sentiment_scores = analyzer.polarity_scores(user_input)\n",
    "\n",
    "    if sentiment_scores['compound'] >= 0.05:\n",
    "        sentiment = \"positive\"\n",
    "    elif sentiment_scores['compound'] <= -0.05:\n",
    "        sentiment = \"negative\"\n",
    "    else:\n",
    "        sentiment = \"neutral\"\n",
    "\n",
    "    print(f\"Sentiment: {sentiment}\")\n",
    "    return sentiment"
   ]
  },
  {
   "cell_type": "markdown",
   "metadata": {},
   "source": [
    "ADDING SUBJECT DESCRIPTORS ( ENHANCERS )"
   ]
  },
  {
   "cell_type": "code",
   "execution_count": 14,
   "metadata": {},
   "outputs": [
    {
     "name": "stdout",
     "output_type": "stream",
     "text": [
      "Sentiment: positive\n",
      "Sentiment: positive\n",
      "colorful frog and cute dog are playing\n",
      "\n",
      "vibrant frog and cute dog dog are playing\n",
      "\n",
      "striking frog and cute dog dog dog are playing\n",
      "\n",
      "tropical frog and cute dog dog dog dog are playing\n",
      "\n",
      "colorful frog and happy dog are playing\n",
      "\n",
      "vibrant frog and happy dog dog are playing\n",
      "\n",
      "striking frog and happy dog dog dog are playing\n",
      "\n",
      "tropical frog and happy dog dog dog dog are playing\n",
      "\n",
      "colorful frog and active dog are playing\n",
      "\n",
      "vibrant frog and active dog dog are playing\n",
      "\n",
      "striking frog and active dog dog dog are playing\n",
      "\n",
      "tropical frog and active dog dog dog dog are playing\n",
      "\n",
      "colorful frog and loyal dog are playing\n",
      "\n",
      "vibrant frog and loyal dog dog are playing\n",
      "\n",
      "striking frog and loyal dog dog dog are playing\n",
      "\n",
      "tropical frog and loyal dog dog dog dog are playing\n",
      "\n",
      "colorful frog and friendly dog are playing\n",
      "\n",
      "vibrant frog and friendly dog dog are playing\n",
      "\n",
      "striking frog and friendly dog dog dog are playing\n",
      "\n",
      "tropical frog and friendly dog dog dog dog are playing\n",
      "\n",
      "colorful frog and domestic dog are playing\n",
      "\n",
      "vibrant frog and domestic dog dog are playing\n",
      "\n",
      "striking frog and domestic dog dog dog are playing\n",
      "\n",
      "tropical frog and domestic dog dog dog dog are playing\n",
      "\n",
      "colorful frog and playful dog are playing\n",
      "\n",
      "vibrant frog and playful dog dog are playing\n",
      "\n",
      "striking frog and playful dog dog dog are playing\n",
      "\n",
      "tropical frog and playful dog dog dog dog are playing\n",
      "\n",
      "colorful frog and furry dog are playing\n",
      "\n",
      "vibrant frog and furry dog dog are playing\n",
      "\n",
      "striking frog and furry dog dog dog are playing\n",
      "\n",
      "tropical frog and furry dog dog dog dog are playing\n",
      "\n"
     ]
    }
   ],
   "source": [
    "import json\n",
    "import re\n",
    "from sentence_transformers import SentenceTransformer, util\n",
    "\n",
    "def appendAdj(extNoun):\n",
    "    extNoun=extNoun.lower()\n",
    "    animals_adj = open(\"./data.json\")\n",
    "    ani_json = json.load(animals_adj)\n",
    "    name_adj_dict = {}\n",
    "    ani_json = ani_json['animals']\n",
    "    sentSentiment = retSetiment(text)\n",
    "    currAdj = []\n",
    "    for i in ani_json:\n",
    "        if(i['name'] == extNoun):\n",
    "            for j in  range(len(i['adjectives'])):\n",
    "                if(i['adjectives'][j][\"type\"] == sentSentiment):\n",
    "                    currAdj.append(i['adjectives'][j][\"value\"])\n",
    "    # print(\"current Adj : \" , currAdj)\n",
    "    name_adj_dict[extNoun] = currAdj\n",
    "   \n",
    "    return currAdj\n",
    "    \n",
    "    \n",
    "    \n",
    "allAdj = {}\n",
    "allText = []\n",
    "\n",
    "k=0\n",
    "\n",
    "for i,j in (tagged):\n",
    "    if(j=='NN'):\n",
    "        allAdj[i] = appendAdj(i)\n",
    "# for i in allAdj:\n",
    "#     print(i,\" \",allAdj[i])\n",
    "allText.append([])\n",
    "allText[0]=[text]\n",
    "length=1\n",
    "for k in allAdj:\n",
    "    allText.append([])\n",
    "    if(allAdj[k] == []):\n",
    "        continue\n",
    "    for v1 in allAdj[k]:\n",
    "        v1 += \" \" + k\n",
    "        for m in allText[length-1]:\n",
    "            # print(v1,end = \"\\n\")\n",
    "            allText[length].append(re.sub(k,v1,m))\n",
    "            # print(allText[length])\n",
    "    length+=1\n",
    "for i in allText[length-1]:\n",
    "    print(i+\"\\n\")"
   ]
  },
  {
   "cell_type": "markdown",
   "metadata": {},
   "source": [
    "HABITAT MAPPING AND EMBEDDING"
   ]
  },
  {
   "cell_type": "code",
   "execution_count": 70,
   "metadata": {},
   "outputs": [
    {
     "name": "stdout",
     "output_type": "stream",
     "text": [
      "colorful frog and cute dog are playing in the forest, in the rainforests\n",
      "colorful frog and cute dog are playing in the forest, in the jungles\n",
      "colorful frog and cute dog are playing in the forest, in the tropical forests\n",
      "vibrant frog and cute dog are playing in the forest, in the rainforests\n",
      "vibrant frog and cute dog are playing in the forest, in the jungles\n",
      "vibrant frog and cute dog are playing in the forest, in the tropical forests\n",
      "striking frog and cute dog are playing in the forest, in the rainforests\n",
      "striking frog and cute dog are playing in the forest, in the jungles\n",
      "striking frog and cute dog are playing in the forest, in the tropical forests\n",
      "tropical frog and cute dog are playing in the forest, in the rainforests\n",
      "tropical frog and cute dog are playing in the forest, in the jungles\n",
      "tropical frog and cute dog are playing in the forest, in the tropical forests\n",
      "colorful frog and active dog are playing in the forest, in the rainforests\n",
      "colorful frog and active dog are playing in the forest, in the jungles\n",
      "colorful frog and active dog are playing in the forest, in the tropical forests\n",
      "vibrant frog and active dog are playing in the forest, in the rainforests\n",
      "vibrant frog and active dog are playing in the forest, in the jungles\n",
      "vibrant frog and active dog are playing in the forest, in the tropical forests\n",
      "striking frog and active dog are playing in the forest, in the rainforests\n",
      "striking frog and active dog are playing in the forest, in the jungles\n",
      "striking frog and active dog are playing in the forest, in the tropical forests\n",
      "tropical frog and active dog are playing in the forest, in the rainforests\n",
      "tropical frog and active dog are playing in the forest, in the jungles\n",
      "tropical frog and active dog are playing in the forest, in the tropical forests\n",
      "colorful frog and happy dog are playing in the forest, in the rainforests\n",
      "colorful frog and happy dog are playing in the forest, in the jungles\n",
      "colorful frog and happy dog are playing in the forest, in the tropical forests\n",
      "vibrant frog and happy dog are playing in the forest, in the rainforests\n",
      "vibrant frog and happy dog are playing in the forest, in the jungles\n",
      "vibrant frog and happy dog are playing in the forest, in the tropical forests\n",
      "striking frog and happy dog are playing in the forest, in the rainforests\n",
      "striking frog and happy dog are playing in the forest, in the jungles\n",
      "striking frog and happy dog are playing in the forest, in the tropical forests\n",
      "tropical frog and happy dog are playing in the forest, in the rainforests\n",
      "tropical frog and happy dog are playing in the forest, in the jungles\n",
      "tropical frog and happy dog are playing in the forest, in the tropical forests\n",
      "colorful frog and obedient dog are playing in the forest, in the rainforests\n",
      "colorful frog and obedient dog are playing in the forest, in the jungles\n",
      "colorful frog and obedient dog are playing in the forest, in the tropical forests\n",
      "vibrant frog and obedient dog are playing in the forest, in the rainforests\n",
      "vibrant frog and obedient dog are playing in the forest, in the jungles\n",
      "vibrant frog and obedient dog are playing in the forest, in the tropical forests\n",
      "striking frog and obedient dog are playing in the forest, in the rainforests\n",
      "striking frog and obedient dog are playing in the forest, in the jungles\n",
      "striking frog and obedient dog are playing in the forest, in the tropical forests\n",
      "tropical frog and obedient dog are playing in the forest, in the rainforests\n",
      "tropical frog and obedient dog are playing in the forest, in the jungles\n",
      "tropical frog and obedient dog are playing in the forest, in the tropical forests\n",
      "colorful frog and cute dog are playing in the forest, in the rainforests\n",
      "colorful frog and cute dog are playing in the forest, in the jungles\n",
      "colorful frog and cute dog are playing in the forest, in the tropical forests\n",
      "vibrant frog and cute dog are playing in the forest, in the rainforests\n",
      "vibrant frog and cute dog are playing in the forest, in the jungles\n",
      "vibrant frog and cute dog are playing in the forest, in the tropical forests\n",
      "striking frog and cute dog are playing in the forest, in the rainforests\n",
      "striking frog and cute dog are playing in the forest, in the jungles\n",
      "striking frog and cute dog are playing in the forest, in the tropical forests\n",
      "tropical frog and cute dog are playing in the forest, in the rainforests\n",
      "tropical frog and cute dog are playing in the forest, in the jungles\n",
      "tropical frog and cute dog are playing in the forest, in the tropical forests\n",
      "colorful frog and active dog are playing in the forest, in the rainforests\n",
      "colorful frog and active dog are playing in the forest, in the jungles\n",
      "colorful frog and active dog are playing in the forest, in the tropical forests\n",
      "vibrant frog and active dog are playing in the forest, in the rainforests\n",
      "vibrant frog and active dog are playing in the forest, in the jungles\n",
      "vibrant frog and active dog are playing in the forest, in the tropical forests\n",
      "striking frog and active dog are playing in the forest, in the rainforests\n",
      "striking frog and active dog are playing in the forest, in the jungles\n",
      "striking frog and active dog are playing in the forest, in the tropical forests\n",
      "tropical frog and active dog are playing in the forest, in the rainforests\n",
      "tropical frog and active dog are playing in the forest, in the jungles\n",
      "tropical frog and active dog are playing in the forest, in the tropical forests\n",
      "colorful frog and happy dog are playing in the forest, in the rainforests\n",
      "colorful frog and happy dog are playing in the forest, in the jungles\n",
      "colorful frog and happy dog are playing in the forest, in the tropical forests\n",
      "vibrant frog and happy dog are playing in the forest, in the rainforests\n",
      "vibrant frog and happy dog are playing in the forest, in the jungles\n",
      "vibrant frog and happy dog are playing in the forest, in the tropical forests\n",
      "striking frog and happy dog are playing in the forest, in the rainforests\n",
      "striking frog and happy dog are playing in the forest, in the jungles\n",
      "striking frog and happy dog are playing in the forest, in the tropical forests\n",
      "tropical frog and happy dog are playing in the forest, in the rainforests\n",
      "tropical frog and happy dog are playing in the forest, in the jungles\n",
      "tropical frog and happy dog are playing in the forest, in the tropical forests\n",
      "colorful frog and obedient dog are playing in the forest, in the rainforests\n",
      "colorful frog and obedient dog are playing in the forest, in the jungles\n",
      "colorful frog and obedient dog are playing in the forest, in the tropical forests\n",
      "vibrant frog and obedient dog are playing in the forest, in the rainforests\n",
      "vibrant frog and obedient dog are playing in the forest, in the jungles\n",
      "vibrant frog and obedient dog are playing in the forest, in the tropical forests\n",
      "striking frog and obedient dog are playing in the forest, in the rainforests\n",
      "striking frog and obedient dog are playing in the forest, in the jungles\n",
      "striking frog and obedient dog are playing in the forest, in the tropical forests\n",
      "tropical frog and obedient dog are playing in the forest, in the rainforests\n",
      "tropical frog and obedient dog are playing in the forest, in the jungles\n",
      "tropical frog and obedient dog are playing in the forest, in the tropical forests\n"
     ]
    }
   ],
   "source": [
    "import json\n",
    "import joblib\n",
    "\n",
    "fdata = open('./data.json')\n",
    "fdata = json.load(fdata)\n",
    "fdata = fdata['animals']\n",
    "\n",
    "def checkAndReturnHabitat(extNoun):\n",
    "    for i in fdata:\n",
    "        if(i['name'] == extNoun):\n",
    "            # print(i['habitats'])\n",
    "            return i['habitats']\n",
    "    return []\n",
    "\n",
    "def isHabitat(extNoun):\n",
    "    model = joblib.load('habitatModel.pkl')\n",
    "    vectorizer = joblib.load('vectorModel.pkl')\n",
    "\n",
    "    user_input = extNoun\n",
    "\n",
    "    user_input_preprocessed = user_input\n",
    "\n",
    "    user_input_vec = vectorizer.transform([user_input_preprocessed])\n",
    "\n",
    "    prediction = model.predict(user_input_vec)\n",
    "    if prediction[0] == 1:\n",
    "        return True\n",
    "    return False\n",
    "\n",
    "\n",
    "#habitat inclusion\n",
    "currAllText = allText[length-1]\n",
    "newAllText = []\n",
    "setHabitats = []\n",
    "\n",
    "flag = True\n",
    "for i,j in (tagged):\n",
    "    if (j == 'NN'):\n",
    "        if(isHabitat(i) == False):\n",
    "            flag = False\n",
    "        else:\n",
    "            flag = True\n",
    "            break\n",
    "\n",
    "#if there is no habitat found in the sentence\n",
    "if flag == False:\n",
    "    for i,j in (tagged):\n",
    "        if ((j == 'NN') and (isHabitat(i) == False)): #dog\n",
    "            setHabitats = checkAndReturnHabitat(i)\n",
    "            if(setHabitats == []):\n",
    "                continue\n",
    "            for l in currAllText:\n",
    "                for k in setHabitats:\n",
    "                    temp = l\n",
    "                    temp += \", in the \" + k\n",
    "                    newAllText.append(temp)\n",
    "\n",
    "else:\n",
    "    newAllText = currAllText\n",
    "for i in newAllText:\n",
    "    print(i,end = \"\\n\")"
   ]
  },
  {
   "cell_type": "markdown",
   "metadata": {},
   "source": [
    "FINDING COSINE SIMILARITY"
   ]
  },
  {
   "cell_type": "code",
   "execution_count": 44,
   "metadata": {},
   "outputs": [],
   "source": [
    "from sklearn.feature_extraction.text import CountVectorizer\n",
    "from sklearn.metrics.pairwise import cosine_similarity\n",
    "\n",
    "\n",
    "def cosineTop10(allText1):\n",
    "    maxDict1 = {}\n",
    "    top10Sentences = []\n",
    "    for i in allText1:\n",
    "        sentence1 = i\n",
    "        sentence2 = text\n",
    "        vectorizer = CountVectorizer().fit_transform([sentence1, sentence2])\n",
    "        cosine_sim = cosine_similarity(vectorizer)\n",
    "        # vectors1 = model.encode(col1, convert_to_tensor=True)\n",
    "        # vectors2 = model.encode(col2, convert_to_tensor=True)\n",
    "        # cosine_scores = util.cos_sim(vectors1, vectors2)\n",
    "        if cosine_sim[0][1] >=0.5:\n",
    "            maxDict1[i] = cosine_sim[0][1]\n",
    "    l1 = 10\n",
    "    ind1 = 0\n",
    "    for k, v in sorted(maxDict1.items(), key=lambda item: item[1],reverse=True):\n",
    "        if(ind1 >= l1 or ind1 >= len(maxDict1)):\n",
    "            break\n",
    "        ind1+=1\n",
    "        top10Sentences.append(k)\n",
    "    return top10Sentences \n",
    "topSentences = cosineTop10(newAllText)\n",
    "for i in topSentences:\n",
    "    print(i,end = \"\\n\")\n",
    "    "
   ]
  },
  {
   "cell_type": "markdown",
   "metadata": {},
   "source": [
    "KNOWLEDGE GRAPH GENERATION - BASIC GoT"
   ]
  },
  {
   "cell_type": "code",
   "execution_count": 19,
   "metadata": {},
   "outputs": [],
   "source": [
    "#Algorithm implementation\n",
    "import json\n",
    "class Node:\n",
    "    def __init__(self,val,adj):\n",
    "        self.val = val #string\n",
    "        self.adj = adj #[]\n",
    "    def getVal(self):\n",
    "        return self.val\n",
    "\n",
    "class GoT:\n",
    "    def __init__(self,arr): # arr contains nsubj, dobj\n",
    "        \n",
    "        self.children = []\n",
    "    def createGraph(self):\n",
    "        for i in self.data_json:\n",
    "            n = Node(i[\"name\"])\n",
    "            self.children.append(Node(\"adjectives\"))\n",
    "            self.children.append(Node(\"habitats\"))\n",
    "                    \n",
    "                \n",
    "\n",
    "got = GoT([\"Tiger\",\"lion\"])\n",
    "got.createGraph()"
   ]
  },
  {
   "cell_type": "code",
   "execution_count": 36,
   "metadata": {},
   "outputs": [
    {
     "name": "stdout",
     "output_type": "stream",
     "text": [
      "{'value': 'colorful', 'type': 'positive'} - (adjective)\n",
      "{'value': 'poisonous', 'type': 'negative'} - (adjective)\n",
      "{'value': 'tiny', 'type': 'negative'} - (adjective)\n",
      "{'value': 'vibrant', 'type': 'positive'} - (adjective)\n",
      "{'value': 'striking', 'type': 'positive'} - (adjective)\n",
      "{'value': 'tropical', 'type': 'positive'} - (adjective)\n",
      "rainforests - (habitat)\n",
      "jungles - (habitat)\n",
      "tropical forests - (habitat)\n",
      "garden - (habitat)\n"
     ]
    }
   ],
   "source": [
    "import json\n",
    "class Node:\n",
    "    name = \"\"\n",
    "    node_type = \"\"\n",
    "    children = []\n",
    "    def __init__(self, name, node_type):\n",
    "        self.name = name\n",
    "        self.node_type = node_type\n",
    "        self.children = []\n",
    "    def add_child(self, child):\n",
    "        self.children.append(child)\n",
    "    def __str__(self) -> str:\n",
    "        return f\"{self.name} - ({self.node_type})\"\n",
    "   \n",
    "class Graph:\n",
    "    def __init__(self):\n",
    "        self.nodes = []\n",
    "\n",
    "    def add_node(self, node):\n",
    "        self.nodes.append(node)\n",
    "\n",
    "    def add_edge(self, parent, child):\n",
    "        parent.add_child(child)\n",
    "\n",
    "    def get_children(self, node):\n",
    "        return node.children\n",
    "    def findNode(self,animalName):\n",
    "        for i in self.nodes:\n",
    "            if(i.node_type == 'animal' and i.name == animalName):\n",
    "                temp =  self.get_children(i)\n",
    "                return temp\n",
    "        return []\n",
    "# Create a graph\n",
    "graph = Graph()\n",
    "data = open('./data.json')\n",
    "\n",
    "data_json = json.load(data)\n",
    "\n",
    "data_json = data_json['animals']\n",
    "\n",
    "root = Node(\"animal\", \"root\")\n",
    "graph.add_node(root)\n",
    "for i in range(len(data_json)):\n",
    "    n1 = Node(data_json[i]['name'],\"animal\")\n",
    "    graph.add_node(n1)\n",
    "    for adj in data_json[i][\"adjectives\"]:\n",
    "        adjective_node = Node(adj, \"adjective\")\n",
    "        graph.add_node(adjective_node)\n",
    "        graph.add_edge(n1, adjective_node)\n",
    "\n",
    "    for habitat in data_json[i][\"habitats\"]:\n",
    "        habitat_node = Node(habitat, \"habitat\")\n",
    "        graph.add_node(habitat_node)\n",
    "        graph.add_edge(n1, habitat_node)\n",
    "\n",
    "testAnimal = \"frog\"\n",
    "cdren = graph.findNode(testAnimal)\n",
    "if(cdren != []):\n",
    "    for i in cdren:\n",
    "        print(i)\n",
    "else:\n",
    "    print(\"Not Found\")"
   ]
  },
  {
   "cell_type": "code",
   "execution_count": 50,
   "metadata": {},
   "outputs": [
    {
     "name": "stdout",
     "output_type": "stream",
     "text": [
      "Sentiment: positive\n",
      "{'frog': ['colorful', 'vibrant', 'striking', 'tropical'], 'dog': ['cute', 'happy', 'active']}\n",
      "colorful frog and cute dog are playing\n",
      "\n",
      "vibrant frog and cute dog are playing\n",
      "\n",
      "striking frog and cute dog are playing\n",
      "\n",
      "tropical frog and cute dog are playing\n",
      "\n",
      "colorful frog and happy dog are playing\n",
      "\n",
      "vibrant frog and happy dog are playing\n",
      "\n",
      "striking frog and happy dog are playing\n",
      "\n",
      "tropical frog and happy dog are playing\n",
      "\n",
      "colorful frog and active dog are playing\n",
      "\n",
      "vibrant frog and active dog are playing\n",
      "\n",
      "striking frog and active dog are playing\n",
      "\n",
      "tropical frog and active dog are playing\n",
      "\n"
     ]
    }
   ],
   "source": [
    "sent = retSetiment(text)\n",
    "allGraphAdj = {}\n",
    "for n,j in tagged:\n",
    "    if(j == 'NN'):\n",
    "        cdren = graph.findNode(n)\n",
    "        if(cdren != []):\n",
    "            allGraphAdj[n] = []\n",
    "            for i in cdren:\n",
    "                if(i.node_type == 'adjective'):\n",
    "                    if(i.name['type'] == sent):\n",
    "                        allGraphAdj[n].append(i.name['value'])\n",
    "                        # print(i.name['type'], \" \",type(i.name))\n",
    "print(allGraphAdj)\n",
    "\n",
    "\n",
    "allText = []\n",
    "allText.append([])\n",
    "allText[0]=[text]\n",
    "length=1\n",
    "for k in allGraphAdj:\n",
    "    allText.append([])\n",
    "    if(allGraphAdj[k] == []):\n",
    "        continue\n",
    "    for v1 in allGraphAdj[k]:\n",
    "        v1 += \" \" + k\n",
    "        for m in allText[length-1]:\n",
    "            allText[length].append(re.sub(k,v1,m))\n",
    "    length+=1\n",
    "for i in allText[length-1]:\n",
    "    print(i+\"\\n\")\n"
   ]
  },
  {
   "cell_type": "code",
   "execution_count": 37,
   "metadata": {},
   "outputs": [
    {
     "name": "stderr",
     "output_type": "stream",
     "text": [
      "Some weights of the model checkpoint at deepset/bert-base-cased-squad2 were not used when initializing BertForQuestionAnswering: ['bert.pooler.dense.weight', 'bert.pooler.dense.bias']\n",
      "- This IS expected if you are initializing BertForQuestionAnswering from the checkpoint of a model trained on another task or with another architecture (e.g. initializing a BertForSequenceClassification model from a BertForPreTraining model).\n",
      "- This IS NOT expected if you are initializing BertForQuestionAnswering from the checkpoint of a model that you expect to be exactly identical (initializing a BertForSequenceClassification model from a BertForSequenceClassification model).\n",
      "Some weights of the model checkpoint at deepset/bert-base-cased-squad2 were not used when initializing BertForQuestionAnswering: ['bert.pooler.dense.weight', 'bert.pooler.dense.bias']\n",
      "- This IS expected if you are initializing BertForQuestionAnswering from the checkpoint of a model trained on another task or with another architecture (e.g. initializing a BertForSequenceClassification model from a BertForPreTraining model).\n",
      "- This IS NOT expected if you are initializing BertForQuestionAnswering from the checkpoint of a model that you expect to be exactly identical (initializing a BertForSequenceClassification model from a BertForSequenceClassification model).\n"
     ]
    },
    {
     "name": "stdout",
     "output_type": "stream",
     "text": [
      "[('garden', 2), ('rainforests', 1), ('jungles', 1), ('tropical forests', 1), ('house', 1), ('street', 1)]\n",
      "garden :  2\n",
      "rainforests :  1\n",
      "jungles :  1\n",
      "tropical forests :  1\n",
      "house :  1\n",
      "street :  1\n"
     ]
    }
   ],
   "source": [
    "from HabitatPred import isHabitat\n",
    "allHabitat = {}\n",
    "questions = [\"Where is \" + allnouns[0] +\"?\"]\n",
    "for i,j in tagged:\n",
    "    if(j == 'NN'):\n",
    "        if isHabitat(text, questions) == False:\n",
    "            cdren = graph.findNode(i)\n",
    "            if(cdren != []):\n",
    "                tempHab = []\n",
    "                for i in cdren:\n",
    "                    if(i.node_type == 'habitat'):\n",
    "                        if(i.name in allHabitat):\n",
    "                            allHabitat[i.name] += 1\n",
    "                        else:\n",
    "                            allHabitat[i.name] = 1\n",
    "allHabitat = sorted(allHabitat.items(), key=lambda item: item[1],reverse=True)\n",
    "print(allHabitat)\n",
    "for i,j in allHabitat:\n",
    "    print(i,\": \",j)\n"
   ]
  },
  {
   "cell_type": "code",
   "execution_count": 52,
   "metadata": {},
   "outputs": [
    {
     "name": "stdout",
     "output_type": "stream",
     "text": [
      "colorful frog and cute dog are playing in the garden\n",
      "vibrant frog and cute dog are playing in the garden\n",
      "striking frog and cute dog are playing in the garden\n",
      "tropical frog and cute dog are playing in the garden\n",
      "colorful frog and happy dog are playing in the garden\n",
      "vibrant frog and happy dog are playing in the garden\n",
      "striking frog and happy dog are playing in the garden\n",
      "tropical frog and happy dog are playing in the garden\n",
      "colorful frog and active dog are playing in the garden\n",
      "vibrant frog and active dog are playing in the garden\n",
      "striking frog and active dog are playing in the garden\n",
      "tropical frog and active dog are playing in the garden\n",
      "colorful frog and cute dog are playing in the rainforests\n",
      "vibrant frog and cute dog are playing in the rainforests\n",
      "striking frog and cute dog are playing in the rainforests\n",
      "tropical frog and cute dog are playing in the rainforests\n",
      "colorful frog and happy dog are playing in the rainforests\n",
      "vibrant frog and happy dog are playing in the rainforests\n",
      "striking frog and happy dog are playing in the rainforests\n",
      "tropical frog and happy dog are playing in the rainforests\n",
      "colorful frog and active dog are playing in the rainforests\n",
      "vibrant frog and active dog are playing in the rainforests\n",
      "striking frog and active dog are playing in the rainforests\n",
      "tropical frog and active dog are playing in the rainforests\n",
      "colorful frog and cute dog are playing in the jungles\n",
      "vibrant frog and cute dog are playing in the jungles\n",
      "striking frog and cute dog are playing in the jungles\n",
      "tropical frog and cute dog are playing in the jungles\n",
      "colorful frog and happy dog are playing in the jungles\n",
      "vibrant frog and happy dog are playing in the jungles\n",
      "striking frog and happy dog are playing in the jungles\n",
      "tropical frog and happy dog are playing in the jungles\n",
      "colorful frog and active dog are playing in the jungles\n",
      "vibrant frog and active dog are playing in the jungles\n",
      "striking frog and active dog are playing in the jungles\n",
      "tropical frog and active dog are playing in the jungles\n",
      "colorful frog and cute dog are playing in the tropical forests\n",
      "vibrant frog and cute dog are playing in the tropical forests\n",
      "striking frog and cute dog are playing in the tropical forests\n",
      "tropical frog and cute dog are playing in the tropical forests\n",
      "colorful frog and happy dog are playing in the tropical forests\n",
      "vibrant frog and happy dog are playing in the tropical forests\n",
      "striking frog and happy dog are playing in the tropical forests\n",
      "tropical frog and happy dog are playing in the tropical forests\n",
      "colorful frog and active dog are playing in the tropical forests\n",
      "vibrant frog and active dog are playing in the tropical forests\n",
      "striking frog and active dog are playing in the tropical forests\n",
      "tropical frog and active dog are playing in the tropical forests\n",
      "colorful frog and cute dog are playing in the house\n",
      "vibrant frog and cute dog are playing in the house\n",
      "striking frog and cute dog are playing in the house\n",
      "tropical frog and cute dog are playing in the house\n",
      "colorful frog and happy dog are playing in the house\n",
      "vibrant frog and happy dog are playing in the house\n",
      "striking frog and happy dog are playing in the house\n",
      "tropical frog and happy dog are playing in the house\n",
      "colorful frog and active dog are playing in the house\n",
      "vibrant frog and active dog are playing in the house\n",
      "striking frog and active dog are playing in the house\n",
      "tropical frog and active dog are playing in the house\n",
      "colorful frog and cute dog are playing in the street\n",
      "vibrant frog and cute dog are playing in the street\n",
      "striking frog and cute dog are playing in the street\n",
      "tropical frog and cute dog are playing in the street\n",
      "colorful frog and happy dog are playing in the street\n",
      "vibrant frog and happy dog are playing in the street\n",
      "striking frog and happy dog are playing in the street\n",
      "tropical frog and happy dog are playing in the street\n",
      "colorful frog and active dog are playing in the street\n",
      "vibrant frog and active dog are playing in the street\n",
      "striking frog and active dog are playing in the street\n",
      "tropical frog and active dog are playing in the street\n"
     ]
    }
   ],
   "source": [
    "finalAllText = []\n",
    "for i,j in allHabitat:\n",
    "    for k in allText[length-1]:\n",
    "        k += \" in the \" + i\n",
    "        finalAllText.append(k)\n",
    "for i in finalAllText:\n",
    "    print(i,end = \"\\n\")"
   ]
  },
  {
   "cell_type": "code",
   "execution_count": null,
   "metadata": {},
   "outputs": [],
   "source": []
  },
  {
   "cell_type": "code",
   "execution_count": null,
   "metadata": {},
   "outputs": [],
   "source": []
  },
  {
   "cell_type": "code",
   "execution_count": null,
   "metadata": {},
   "outputs": [],
   "source": []
  },
  {
   "cell_type": "code",
   "execution_count": null,
   "metadata": {},
   "outputs": [],
   "source": []
  },
  {
   "cell_type": "code",
   "execution_count": null,
   "metadata": {},
   "outputs": [],
   "source": []
  },
  {
   "cell_type": "code",
   "execution_count": null,
   "metadata": {},
   "outputs": [],
   "source": []
  },
  {
   "cell_type": "code",
   "execution_count": null,
   "metadata": {},
   "outputs": [],
   "source": []
  },
  {
   "cell_type": "code",
   "execution_count": null,
   "metadata": {},
   "outputs": [],
   "source": []
  },
  {
   "cell_type": "markdown",
   "metadata": {},
   "source": [
    "SYSTEM METRICS"
   ]
  },
  {
   "cell_type": "code",
   "execution_count": 82,
   "metadata": {},
   "outputs": [
    {
     "name": "stderr",
     "output_type": "stream",
     "text": [
      "\u001b[34m\u001b[1mwandb\u001b[0m: Logging into wandb.ai. (Learn how to deploy a W&B server locally: https://wandb.me/wandb-server)\n",
      "\u001b[34m\u001b[1mwandb\u001b[0m: You can find your API key in your browser here: https://wandb.ai/authorize\n",
      "\u001b[34m\u001b[1mwandb\u001b[0m: Paste an API key from your profile and hit enter, or press ctrl+c to quit:\u001b[34m\u001b[1mwandb\u001b[0m: \u001b[32m\u001b[41mERROR\u001b[0m API key must be 40 characters long, yours was 11\n",
      "\u001b[34m\u001b[1mwandb\u001b[0m: Logging into wandb.ai. (Learn how to deploy a W&B server locally: https://wandb.me/wandb-server)\n",
      "\u001b[34m\u001b[1mwandb\u001b[0m: You can find your API key in your browser here: https://wandb.ai/authorize\n",
      "\u001b[34m\u001b[1mwandb\u001b[0m: Paste an API key from your profile and hit enter, or press ctrl+c to quit:\u001b[34m\u001b[1mwandb\u001b[0m: Appending key for api.wandb.ai to your netrc file: C:\\Users\\lenovo/.netrc\n"
     ]
    },
    {
     "data": {
      "text/html": [
       "Tracking run with wandb version 0.15.12"
      ],
      "text/plain": [
       "<IPython.core.display.HTML object>"
      ]
     },
     "metadata": {},
     "output_type": "display_data"
    }
   ],
   "source": [
    "import spacy\n",
    "import networkx as nx\n",
    "import matplotlib.pyplot as plt\n",
    "\n",
    "nlp = spacy.load(\"en_core_web_sm\")\n",
    "\n",
    "prompt = \"frog and dog are playing\"\n",
    "doc = nlp(prompt)\n",
    "G = nx.Graph()\n",
    "\n",
    "words_of_interest = []\n",
    "\n",
    "for token in doc:\n",
    "    if token.pos_ in (\"NOUN\"):\n",
    "        words_of_interest.append(token.text)\n",
    "\n",
    "G.add_nodes_from(words_of_interest)\n",
    "\n",
    "for word1 in words_of_interest:\n",
    "    for word2 in words_of_interest:\n",
    "        if word1 != word2:\n",
    "            similarity = nlp(word1).similarity(nlp(word2))\n",
    "            G.add_edge(word1, word2, weight=similarity)\n",
    "            \n",
    "pos = nx.spring_layout(G, seed=42)\n",
    "plt.figure(figsize=(5, 5))\n",
    "labels = {node: node for node in G.nodes()}\n",
    "edge_labels = {(node1, node2): round(data[\"weight\"], 2) for node1, node2, data in G.edges(data=True)}\n",
    "nx.draw(G, pos, with_labels=True, labels=labels, node_size=3000, node_color='lightblue', font_size=12, font_color='black')\n",
    "nx.draw_networkx_edge_labels(G, pos, edge_labels=edge_labels, font_color='red')\n",
    "plt.title(\"Relationship Graph of Words (Verbs, Nouns, Adjectives, Adverbs)\")\n",
    "plt.axis('off')\n",
    "plt.show()\n"
   ]
  },
  {
   "cell_type": "markdown",
   "metadata": {},
   "source": [
    "Knowledge Graph for Structured Data for matched entity in user input prompt"
   ]
  },
  {
   "cell_type": "code",
   "execution_count": 22,
   "metadata": {},
   "outputs": [
    {
     "data": {
      "image/png": "[encoded data removed]",
      "text/plain": [
       "<Figure size 1000x1000 with 1 Axes>"
      ]
     },
     "metadata": {},
     "output_type": "display_data"
    }
   ],
   "source": [
    "import spacy\n",
    "import json\n",
    "import networkx as nx\n",
    "import matplotlib.pyplot as plt\n",
    "\n",
    "nlp = spacy.load(\"en_core_web_sm\")\n",
    "\n",
    "with open(\"data.json\", \"r\") as json_file:\n",
    "    data = json.load(json_file)\n",
    "\n",
    "input_text = \"dog and frog are playing\"\n",
    "\n",
    "doc = nlp(input_text)\n",
    "keywords = [token.text.lower() for token in doc if token.pos_ in [\"NOUN\", \"ADJ\"]]\n",
    "\n",
    "G = nx.Graph()\n",
    "\n",
    "for animal_data in data[\"animals\"]:\n",
    "    animal_name = animal_data[\"name\"]\n",
    "    if animal_name.lower() in keywords:\n",
    "        G.add_node(animal_name, label=animal_name, node_type=\"entity\")\n",
    "        for adj in animal_data[\"adjectives\"]:\n",
    "            adjective_value = adj[\"value\"]\n",
    "            G.add_node(adjective_value, label=adjective_value, node_type=\"adjective\")\n",
    "            G.add_edge(animal_name, adjective_value, relation=\"has adjective\", edge_type=\"relation\")\n",
    "        for habitat in animal_data[\"habitats\"]:\n",
    "            G.add_node(habitat, label=habitat, node_type=\"habitat\")\n",
    "            G.add_edge(animal_name, habitat, relation=\"lives in\", edge_type=\"relation\")\n",
    "\n",
    "pos = nx.spring_layout(G, seed=20)\n",
    "labels = {node: G.nodes[node][\"label\"] for node in G.nodes}\n",
    "edge_labels = {(u, v): G.edges[u, v][\"relation\"] for u, v in G.edges}\n",
    "\n",
    "plt.figure(figsize=(10, 10))\n",
    "nx.draw(G, pos, with_labels=True, labels=labels, node_size=2000, font_size=10, node_color=\"lightblue\")\n",
    "nx.draw_networkx_edge_labels(G, pos, edge_labels=edge_labels, font_size=8)\n",
    "\n",
    "plt.title(\"Knowledge Graph\")\n",
    "plt.axis(\"off\")\n",
    "plt.show()\n"
   ]
  },
  {
   "cell_type": "code",
   "execution_count": null,
   "metadata": {},
   "outputs": [],
   "source": [
    "import spacy\n",
    "import json\n",
    "import networkx as nx\n",
    "import random\n",
    "\n",
    "# Load the spaCy English model\n",
    "nlp = spacy.load(\"en_core_web_sm\")\n",
    "\n",
    "# Read JSON data from a file\n",
    "with open(\"data.json\", \"r\") as json_file:\n",
    "    data = json.load(json_file)\n",
    "\n",
    "# Initialize a knowledge graph\n",
    "G = nx.Graph()\n",
    "\n",
    "# Iterate through each animal in the JSON data and create the knowledge graph\n",
    "for animal_data in data[\"animals\"]:\n",
    "    animal_name = animal_data[\"name\"]\n",
    "    G.add_node(animal_name, label=animal_name, node_type=\"entity\")\n",
    "\n",
    "    for adj in animal_data[\"adjectives\"]:\n",
    "        adjective_value = adj[\"value\"]\n",
    "        adjective_type = adj[\"type\"]\n",
    "        G.add_node(adjective_value, label=adjective_value, node_type=\"adjective\", adjective_type=adjective_type)\n",
    "        G.add_edge(animal_name, adjective_value, relation=\"has adjective\", edge_type=\"relation\")\n",
    "\n",
    "    for habitat in animal_data[\"habitats\"]:\n",
    "        G.add_node(habitat, label=habitat, node_type=\"habitat\")\n",
    "        G.add_edge(animal_name, habitat, relation=\"lives in\", edge_type=\"relation\")\n",
    "\n",
    "keywords = []\n",
    "for token in doc:\n",
    "    if token.pos_ in [\"NOUN\", \"VERB\", \"ADJ\"]:\n",
    "        keywords.append(token.text.lower())\n",
    "\n",
    "# Find the entity (animal) mentioned in the user input\n",
    "entity_mentioned = None\n",
    "for keyword in keywords:\n",
    "    if keyword in G.nodes:\n",
    "        entity_mentioned = keyword\n",
    "        break\n",
    "\n",
    "# Generate sentences for the entity mentioned\n",
    "if entity_mentioned:\n",
    "    sentences = []\n",
    "\n",
    "    # Determine the appropriate habitats based on user sentiment\n",
    "    appropriate_habitats = []\n",
    "    for habitat in G.neighbors(entity_mentioned):\n",
    "        if G.edges[entity_mentioned, habitat][\"relation\"] == \"lives in\":\n",
    "            if user_sentiment == \"positive\":\n",
    "                appropriate_habitats.append(habitat)\n",
    "            elif user_sentiment == \"negative\" and \"negative\" in G.nodes[habitat].get(\"adjective_type\", \"\"):\n",
    "                appropriate_habitats.append(habitat)\n",
    "\n",
    "    # Iterate through adjectives associated with the entity\n",
    "    for adj in G.neighbors(entity_mentioned):\n",
    "        if G.edges[entity_mentioned, adj][\"relation\"] == \"has adjective\":\n",
    "            adjective_type = G.nodes[adj].get(\"adjective_type\", \"neutral\")\n",
    "\n",
    "            # Check if the adjective is positive and matches the user's sentiment\n",
    "            if adjective_type == \"positive\" or user_sentiment != \"positive\":\n",
    "                # Generate sentences with appropriate habitats\n",
    "                for habitat in appropriate_habitats:\n",
    "                    sentence = f\"{adj} {entity_mentioned} is playing in the {habitat}\"\n",
    "                    sentences.append(sentence)\n",
    "\n",
    "    # Print the generated sentences\n",
    "    for sentence in sentences:\n",
    "        print(sentence)\n",
    "else:\n",
    "    print(\"Entity not found in the graph.\")\n"
   ]
  },
  {
   "cell_type": "code",
   "execution_count": 28,
   "metadata": {},
   "outputs": [
    {
     "name": "stderr",
     "output_type": "stream",
     "text": [
      "C:\\Users\\suren\\AppData\\Local\\Temp\\ipykernel_17240\\3374251134.py:23: UserWarning: [W007] The model you're using has no word vectors loaded, so the result of the Doc.similarity method will be based on the tagger, parser and NER, which may not give useful similarity judgements. This may happen if you're using one of the small models, e.g. `en_core_web_sm`, which don't ship with word vectors and only use context-sensitive tensors. You can always add your own word vectors, or use one of the larger models instead if available.\n",
      "  similarity = nlp(word1).similarity(nlp(word2))\n"
     ]
    },
    {
     "data": {
      "text/html": [
       "Run data is saved locally in <code>e:\\FYP\\prompt_generator\\wandb\\run-20231009_120501-idy05fur</code>"
      ],
      "text/plain": [
       "<IPython.core.display.HTML object>"
      ]
     },
     "metadata": {},
     "output_type": "display_data"
    },
    {
     "data": {
      "text/html": [
       "Syncing run <strong><a href='https://wandb.ai/ssvgoc1/prompt_generator/runs/idy05fur' target=\"_blank\">mild-wave-1</a></strong> to <a href='https://wandb.ai/ssvgoc1/prompt_generator' target=\"_blank\">Weights & Biases</a> (<a href='https://wandb.me/run' target=\"_blank\">docs</a>)<br/>"
      ],
      "text/plain": [
       "<IPython.core.display.HTML object>"
      ]
     },
     "metadata": {},
     "output_type": "display_data"
    },
    {
     "data": {
      "text/html": [
       " View project at <a href='https://wandb.ai/ssvgoc1/prompt_generator' target=\"_blank\">https://wandb.ai/ssvgoc1/prompt_generator</a>"
      ],
      "text/plain": [
       "<IPython.core.display.HTML object>"
      ]
     },
     "metadata": {},
     "output_type": "display_data"
    },
    {
     "data": {
      "text/html": [
       " View run at <a href='https://wandb.ai/ssvgoc1/prompt_generator/runs/idy05fur' target=\"_blank\">https://wandb.ai/ssvgoc1/prompt_generator/runs/idy05fur</a>"
      ],
      "text/plain": [
       "<IPython.core.display.HTML object>"
      ]
     },
     "metadata": {},
     "output_type": "display_data"
    },
    {
     "data": {
      "text/html": [
       "<button onClick=\"this.nextSibling.style.display='block';this.style.display='none';\">Display W&B run</button><iframe src='https://wandb.ai/ssvgoc1/prompt_generator/runs/idy05fur?jupyter=true' style='border:none;width:100%;height:420px;display:none;'></iframe>"
      ],
      "text/plain": [
       "<wandb.sdk.wandb_run.Run at 0x1e6cf68ce50>"
      ]
     },
     "execution_count": 82,
     "metadata": {},
     "output_type": "execute_result"
    }
   ],
   "source": [
    "import wandb\n",
    "wandb.init()"
   ]
  }
 ],
 "metadata": {
  "kernelspec": {
   "display_name": ".venv",
   "language": "python",
   "name": "python3"
  },
  "language_info": {
   "codemirror_mode": {
    "name": "ipython",
    "version": 3
   },
   "file_extension": ".py",
   "mimetype": "text/x-python",
   "name": "python",
   "nbconvert_exporter": "python",
   "pygments_lexer": "ipython3",
   "version": "3.11.4"
  },
  "orig_nbformat": 4
 },
 "nbformat": 4,
 "nbformat_minor": 2
}
